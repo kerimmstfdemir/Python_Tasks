{
 "cells": [
  {
   "cell_type": "markdown",
   "id": "534bb62d",
   "metadata": {},
   "source": [
    "## Letter Count"
   ]
  },
  {
   "cell_type": "markdown",
   "id": "093482c2",
   "metadata": {},
   "source": [
    "### Problem :"
   ]
  },
  {
   "cell_type": "markdown",
   "id": "ea0622ea",
   "metadata": {},
   "source": [
    "**Task:**\n",
    "\n",
    "Count the number of each letter in a sentence.\n",
    "<ul>\n",
    "    <li>The department you work for undertook a project construction that makes word / text analysis. You are asked to calculate the number of letters or any chars in the sentences entered under this project.</li>\n",
    "    <li>Write a Python program that;</li>\n",
    "    <ol>\n",
    "        <li>takes a sentence from the user,</li>\n",
    "        <li>counts the number of each letter/chars of the sentence,</li>\n",
    "        <li>collects the letters/chars as a key and the counted numbers as a value in a <b>dictionary</b>.</li>\n",
    "        </ol>\n",
    "</ul>"
   ]
  },
  {
   "attachments": {
    "letter_count_examples.png": {
     "image/png": "[encoded data removed]"
    }
   },
   "cell_type": "markdown",
   "id": "e53c1d70",
   "metadata": {},
   "source": [
    "![letter_count_examples.png](attachment:letter_count_examples.png)"
   ]
  },
  {
   "cell_type": "markdown",
   "id": "cac72034",
   "metadata": {},
   "source": [
    "### Code :"
   ]
  },
  {
   "cell_type": "code",
   "execution_count": 7,
   "id": "cb2f2489",
   "metadata": {},
   "outputs": [
    {
     "name": "stdout",
     "output_type": "stream",
     "text": [
      "Enter a sentence : hippo runs to us!\n",
      "{'h': 1, 'i': 1, 'p': 2, 'o': 2, ' ': 3, 'r': 1, 'u': 2, 'n': 1, 's': 2, 't': 1, '!': 1}\n"
     ]
    }
   ],
   "source": [
    "sentence = input(\"Enter a sentence : \")\n",
    "letter_count = {}\n",
    "\n",
    "for i in sentence.lower() :\n",
    "    if i not in letter_count :\n",
    "        letter_count[i] = 1\n",
    "    else :\n",
    "        letter_count[i] += 1\n",
    "\n",
    "print(letter_count)"
   ]
  },
  {
   "cell_type": "code",
   "execution_count": null,
   "id": "a676e7ea",
   "metadata": {},
   "outputs": [],
   "source": []
  }
 ],
 "metadata": {
  "kernelspec": {
   "display_name": "Python 3 (ipykernel)",
   "language": "python",
   "name": "python3"
  },
  "language_info": {
   "codemirror_mode": {
    "name": "ipython",
    "version": 3
   },
   "file_extension": ".py",
   "mimetype": "text/x-python",
   "name": "python",
   "nbconvert_exporter": "python",
   "pygments_lexer": "ipython3",
   "version": "3.9.12"
  }
 },
 "nbformat": 4,
 "nbformat_minor": 5
}
