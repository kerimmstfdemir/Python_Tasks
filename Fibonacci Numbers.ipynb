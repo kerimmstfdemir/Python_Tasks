{
 "cells": [
  {
   "cell_type": "markdown",
   "metadata": {},
   "source": [
    "## Fibonacci Numbers"
   ]
  },
  {
   "cell_type": "markdown",
   "metadata": {},
   "source": [
    "### Problem :"
   ]
  },
  {
   "cell_type": "markdown",
   "metadata": {},
   "source": [
    "**Task :** Create a <i style = \"color:red\">list</i> consisting of **Fibonacci numbers** from **1 to 55** using control flow statements and <i style = \"color:red\">range()</i> function.\n",
    "\n",
    "The desired output is like this:\n",
    "* fibonacci →  [1, 1, 2, 3, 5, 8, 13, 21, 34, 55]"
   ]
  },
  {
   "cell_type": "code",
   "execution_count": 1,
   "metadata": {},
   "outputs": [
    {
     "name": "stdout",
     "output_type": "stream",
     "text": [
      "fibonacci → [1, 1, 2, 3, 5, 8, 13, 21, 34, 55]\n"
     ]
    }
   ],
   "source": [
    "fibonaccci = []\n",
    "# With the range() function, it was determined how long the Fibonacci series will continue.\n",
    "for i in range(0, 10):\n",
    "    if i == 0 or i == 1:\n",
    "        fibonaccci.append(1)\n",
    "        continue\n",
    "    else :\n",
    "        next_number = fibonaccci[-1] + fibonaccci[-2]\n",
    "        fibonaccci.append(next_number)\n",
    "\n",
    "print(\"fibonacci →\", fibonaccci)"
   ]
  },
  {
   "cell_type": "code",
   "execution_count": null,
   "metadata": {},
   "outputs": [],
   "source": []
  }
 ],
 "metadata": {
  "kernelspec": {
   "display_name": "Python 3",
   "language": "python",
   "name": "python3"
  },
  "language_info": {
   "codemirror_mode": {
    "name": "ipython",
    "version": 3
   },
   "file_extension": ".py",
   "mimetype": "text/x-python",
   "name": "python",
   "nbconvert_exporter": "python",
   "pygments_lexer": "ipython3",
   "version": "3.8.5"
  }
 },
 "nbformat": 4,
 "nbformat_minor": 4
}
