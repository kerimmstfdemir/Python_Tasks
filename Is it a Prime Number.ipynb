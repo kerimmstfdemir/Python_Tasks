{
 "cells": [
  {
   "cell_type": "markdown",
   "metadata": {},
   "source": [
    "## Is it a Prime Number?"
   ]
  },
  {
   "cell_type": "markdown",
   "metadata": {},
   "source": [
    "### Problem :"
   ]
  },
  {
   "cell_type": "markdown",
   "metadata": {},
   "source": [
    "**Task :** Write a program that takes a number from the **user** and prints the result to check if it is a **prime number**."
   ]
  },
  {
   "cell_type": "markdown",
   "metadata": {},
   "source": [
    "The examples of the desired output are as follows :\n",
    "\n",
    "* **input** →  19 ⇉ **output** : 19 is a prime number\n",
    "* **input** →  10 ⇉ **output** : 10 is not a prime number"
   ]
  },
  {
   "cell_type": "markdown",
   "metadata": {},
   "source": [
    "### Code :"
   ]
  },
  {
   "cell_type": "code",
   "execution_count": 1,
   "metadata": {},
   "outputs": [
    {
     "name": "stdout",
     "output_type": "stream",
     "text": [
      "Please enter a positive integer number : 97\n",
      "97 is a prime number\n"
     ]
    }
   ],
   "source": [
    "number = int(input('Please enter a positive integer number : '))\n",
    "divisors = []\n",
    "\n",
    "for i in range(1, number+1) :\n",
    "    if number % i == 0 :\n",
    "        divisors.append(i)\n",
    "\n",
    "if (number == 0) or (number == 1) or (len(divisors) >= 3) :\n",
    "    print(f\"{number} is not a prime number\")\n",
    "else :\n",
    "    print(f\"{number} is a prime number\")"
   ]
  },
  {
   "cell_type": "code",
   "execution_count": null,
   "metadata": {},
   "outputs": [],
   "source": []
  }
 ],
 "metadata": {
  "kernelspec": {
   "display_name": "Python 3",
   "language": "python",
   "name": "python3"
  },
  "language_info": {
   "codemirror_mode": {
    "name": "ipython",
    "version": 3
   },
   "file_extension": ".py",
   "mimetype": "text/x-python",
   "name": "python",
   "nbconvert_exporter": "python",
   "pygments_lexer": "ipython3",
   "version": "3.8.5"
  }
 },
 "nbformat": 4,
 "nbformat_minor": 4
}
