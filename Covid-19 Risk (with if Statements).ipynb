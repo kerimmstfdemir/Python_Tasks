{
 "cells": [
  {
   "cell_type": "markdown",
   "metadata": {},
   "source": [
    "## Covid-19 Risk with if Statements"
   ]
  },
  {
   "cell_type": "markdown",
   "metadata": {},
   "source": [
    "### Problem :"
   ]
  },
  {
   "cell_type": "markdown",
   "metadata": {},
   "source": [
    "* **Task** : Estimating the risk of death from **coronavirus**.\n",
    "\n",
    "\n",
    "* Consider the following questions in terms of **True/False** regarding someone else.\n",
    "   * Are you a **cigarette** addict older than **75** years old? Variable → age\n",
    "\n",
    "   * Do you have a **severe** chronic disease? Variable → chronic\n",
    "\n",
    "   * Is your **immune** system **too weak**? Variable → immune\n",
    "\n",
    "Set a logical algorithm using boolean logic operators (and/or) and use **if-statements** with the given variables in order to print out us a message : \"**You are in risky group**\"(if True ) or \"**You are not in risky group**\" (if False)."
   ]
  },
  {
   "cell_type": "markdown",
   "metadata": {},
   "source": [
    "### Code :"
   ]
  },
  {
   "cell_type": "code",
   "execution_count": 3,
   "metadata": {},
   "outputs": [
    {
     "name": "stdout",
     "output_type": "stream",
     "text": [
      "You are in risky group\n"
     ]
    }
   ],
   "source": [
    "age = False  # can be assigned only True/False\n",
    "chronic = False  # can be assigned only True/False\n",
    "immune = True  # can be assigned only True/False\n",
    "\n",
    "# If the answer to even one of these questions is 'True', there is a risk of death from Covid-19.\n",
    "# That's why I used the 'or' logical expression.\n",
    "risk = age or chronic or immune\n",
    "\n",
    "if risk :\n",
    "    print('You are in risky group')\n",
    "else :\n",
    "    print('You are not in risky group')"
   ]
  },
  {
   "cell_type": "code",
   "execution_count": null,
   "metadata": {},
   "outputs": [],
   "source": []
  }
 ],
 "metadata": {
  "kernelspec": {
   "display_name": "Python 3",
   "language": "python",
   "name": "python3"
  },
  "language_info": {
   "codemirror_mode": {
    "name": "ipython",
    "version": 3
   },
   "file_extension": ".py",
   "mimetype": "text/x-python",
   "name": "python",
   "nbconvert_exporter": "python",
   "pygments_lexer": "ipython3",
   "version": "3.8.5"
  }
 },
 "nbformat": 4,
 "nbformat_minor": 4
}
