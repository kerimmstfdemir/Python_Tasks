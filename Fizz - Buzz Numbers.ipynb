{
 "cells": [
  {
   "cell_type": "markdown",
   "id": "7e316b07",
   "metadata": {},
   "source": [
    "## Fizz-Buzz Numbers"
   ]
  },
  {
   "cell_type": "markdown",
   "id": "86c4db47",
   "metadata": {},
   "source": [
    "### Problem :"
   ]
  },
  {
   "cell_type": "markdown",
   "id": "90d10478",
   "metadata": {},
   "source": [
    "* **Task :** Print the **Fizz Buzz** numbers.\n",
    "<br><br>\n",
    "* **Fizz Buzz** is a famous code challenge used in interviews to test basic programming skills.\n",
    "<br><br>\n",
    "* Print numbers from 1 to 100 inclusively following these instructions:\n",
    "<ol>\n",
    "<br>\n",
    "    <li>if a number is multiple of 3, print \"Fizz\" instead of this number,</li>\n",
    "    <li>if a number is multiple of 5, print \"Buzz\" instead of this number,</li>\n",
    "    <li>for numbers that are multiples of both 3 and 5, print \"FizzBuzz\",</li>\n",
    "    <li>print the rest of the numbers unchanged.</li>\n",
    "</ol>\n",
    "<br>\n",
    "* Output each value on a separate line."
   ]
  },
  {
   "cell_type": "markdown",
   "id": "40150a1b",
   "metadata": {},
   "source": [
    "### Code :"
   ]
  },
  {
   "cell_type": "code",
   "execution_count": 1,
   "id": "435ca358",
   "metadata": {},
   "outputs": [
    {
     "name": "stdout",
     "output_type": "stream",
     "text": [
      "1\n",
      "2\n",
      "Fizz\n",
      "4\n",
      "Buzz\n",
      "Fizz\n",
      "7\n",
      "8\n",
      "Fizz\n",
      "Buzz\n",
      "11\n",
      "Fizz\n",
      "13\n",
      "14\n",
      "FizzBuzz\n",
      "16\n",
      "17\n",
      "Fizz\n",
      "19\n",
      "Buzz\n",
      "Fizz\n",
      "22\n",
      "23\n",
      "Fizz\n",
      "Buzz\n",
      "26\n",
      "Fizz\n",
      "28\n",
      "29\n",
      "FizzBuzz\n",
      "31\n",
      "32\n",
      "Fizz\n",
      "34\n",
      "Buzz\n",
      "Fizz\n",
      "37\n",
      "38\n",
      "Fizz\n",
      "Buzz\n",
      "41\n",
      "Fizz\n",
      "43\n",
      "44\n",
      "FizzBuzz\n",
      "46\n",
      "47\n",
      "Fizz\n",
      "49\n",
      "Buzz\n",
      "Fizz\n",
      "52\n",
      "53\n",
      "Fizz\n",
      "Buzz\n",
      "56\n",
      "Fizz\n",
      "58\n",
      "59\n",
      "FizzBuzz\n",
      "61\n",
      "62\n",
      "Fizz\n",
      "64\n",
      "Buzz\n",
      "Fizz\n",
      "67\n",
      "68\n",
      "Fizz\n",
      "Buzz\n",
      "71\n",
      "Fizz\n",
      "73\n",
      "74\n",
      "FizzBuzz\n",
      "76\n",
      "77\n",
      "Fizz\n",
      "79\n",
      "Buzz\n",
      "Fizz\n",
      "82\n",
      "83\n",
      "Fizz\n",
      "Buzz\n",
      "86\n",
      "Fizz\n",
      "88\n",
      "89\n",
      "FizzBuzz\n",
      "91\n",
      "92\n",
      "Fizz\n",
      "94\n",
      "Buzz\n",
      "Fizz\n",
      "97\n",
      "98\n",
      "Fizz\n",
      "Buzz\n"
     ]
    }
   ],
   "source": [
    "for i in range(1, 101) :\n",
    "    if i % 3 == 0 and i % 5 == 0 :\n",
    "        print(\"FizzBuzz\")\n",
    "    elif i % 3 == 0 :\n",
    "        print(\"Fizz\")\n",
    "    elif i % 5 == 0 :\n",
    "        print(\"Buzz\")\n",
    "    else :\n",
    "        print(i)"
   ]
  },
  {
   "cell_type": "code",
   "execution_count": null,
   "id": "cb11fd5d",
   "metadata": {},
   "outputs": [],
   "source": []
  }
 ],
 "metadata": {
  "kernelspec": {
   "display_name": "Python 3 (ipykernel)",
   "language": "python",
   "name": "python3"
  },
  "language_info": {
   "codemirror_mode": {
    "name": "ipython",
    "version": 3
   },
   "file_extension": ".py",
   "mimetype": "text/x-python",
   "name": "python",
   "nbconvert_exporter": "python",
   "pygments_lexer": "ipython3",
   "version": "3.9.12"
  }
 },
 "nbformat": 4,
 "nbformat_minor": 5
}
