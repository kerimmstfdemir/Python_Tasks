{
 "cells": [
  {
   "cell_type": "markdown",
   "metadata": {},
   "source": [
    "## Password Reminder"
   ]
  },
  {
   "cell_type": "markdown",
   "metadata": {},
   "source": [
    "### Problem :"
   ]
  },
  {
   "cell_type": "markdown",
   "metadata": {},
   "source": [
    "**Task** : Let's say; you left a message in the past that prints a password you need. To see the password you wrote, you need to enter your **name** and the program should recognize you.\n",
    "Write a program that \n",
    "\n",
    "* Takes the first name from the user and compares it to yours,\n",
    "* Then if the name the user entered is the same as yours, print out such as : \"Hello, **Joseph**! The password is : W@12\",\n",
    "* If the name the user entered is not the same as yours, print out such as : \"Hello, **Amina**! See you later.\""
   ]
  },
  {
   "cell_type": "markdown",
   "metadata": {},
   "source": [
    "### Code :"
   ]
  },
  {
   "cell_type": "code",
   "execution_count": 18,
   "metadata": {},
   "outputs": [
    {
     "name": "stdout",
     "output_type": "stream",
     "text": [
      "Please enter your name : Amila\n",
      "Hello, Amila! See you later.\n"
     ]
    }
   ],
   "source": [
    "# Define a dictionary that stores passwords\n",
    "pass_dict = {'kerim' : 'Cn9#', 'joseph' : 'W@12'}\n",
    "# Get name form user\n",
    "name = str(input('Please enter your name : '))\n",
    "# Compare the entered name with the dictionary keys.\n",
    "if name.lower() in pass_dict :\n",
    "    print('Hello, {}! The password is : {}'.format(name, pass_dict[name.lower()]))\n",
    "else :\n",
    "    print('Hello, {}! See you later.'.format(name))"
   ]
  },
  {
   "cell_type": "code",
   "execution_count": null,
   "metadata": {},
   "outputs": [],
   "source": []
  }
 ],
 "metadata": {
  "kernelspec": {
   "display_name": "Python 3",
   "language": "python",
   "name": "python3"
  },
  "language_info": {
   "codemirror_mode": {
    "name": "ipython",
    "version": 3
   },
   "file_extension": ".py",
   "mimetype": "text/x-python",
   "name": "python",
   "nbconvert_exporter": "python",
   "pygments_lexer": "ipython3",
   "version": "3.8.5"
  }
 },
 "nbformat": 4,
 "nbformat_minor": 4
}
